{
 "cells": [
  {
   "cell_type": "markdown",
   "metadata": {},
   "source": [
    "## Work\n",
    "1. 請嘗試將 preproc_x 替換成以每筆資料的 min/max 進行標準化至 -1 ~ 1 間，再進行訓練\n",
    "2. 請嘗試將 mlp 疊更深 (e.g 5~10 層)，進行訓練後觀察 learning curve 的走勢\n",
    "3. (optional) 請改用 GPU 進行訓練 (如果你有 GPU 的話)，比較使用 CPU 與 GPU 的訓練速度"
   ]
  },
  {
   "cell_type": "raw",
   "metadata": {},
   "source": [
    "## \n",
    "\"\"\"\n",
    "Your code here (optional)\n",
    "確認硬體資源\n",
    "\"\"\"\n",
    "cmd \"cd C:\\Program Files\\NVIDIA Corporation\\NVSMI\" then \"nvidia-smi.exe -l 1\""
   ]
  },
  {
   "cell_type": "code",
   "execution_count": 2,
   "metadata": {},
   "outputs": [
    {
     "name": "stderr",
     "output_type": "stream",
     "text": [
      "Using TensorFlow backend.\n"
     ]
    }
   ],
   "source": [
    "import os\n",
    "import keras\n",
    "\n",
    "# 請嘗試設定 GPU：os.environ\n",
    "os.environ[\"CUDA_VISIBLE_DEVICES\"] = \"0\""
   ]
  },
  {
   "cell_type": "code",
   "execution_count": 3,
   "metadata": {},
   "outputs": [],
   "source": [
    "train, test = keras.datasets.cifar10.load_data()"
   ]
  },
  {
   "cell_type": "code",
   "execution_count": 4,
   "metadata": {},
   "outputs": [],
   "source": [
    "## 資料前處理\n",
    "\"\"\"\n",
    "Your code here\n",
    "\"\"\"\n",
    "def preproc_x(x, flatten=True):\n",
    "    x = 2*(((x - x.min()) / (x.max() - x.min()))-0.5)\n",
    "    if flatten:\n",
    "        x = x.reshape((len(x), -1))\n",
    "    return x\n",
    "\n",
    "def preproc_y(y, num_classes=10):\n",
    "    if y.shape[-1] == 1:\n",
    "        y = keras.utils.to_categorical(y, num_classes)\n",
    "    return y"
   ]
  },
  {
   "cell_type": "code",
   "execution_count": 5,
   "metadata": {},
   "outputs": [],
   "source": [
    "x_train, y_train = train\n",
    "x_test, y_test = test\n",
    "\n",
    "# Preproc the inputs\n",
    "x_train = preproc_x(x_train)\n",
    "x_test = preproc_x(x_test)\n",
    "\n",
    "# Preprc the outputs\n",
    "y_train = preproc_y(y_train)\n",
    "y_test = preproc_y(y_test)"
   ]
  },
  {
   "cell_type": "code",
   "execution_count": 6,
   "metadata": {},
   "outputs": [],
   "source": [
    "\"\"\"Code Here\n",
    "建立你的神經網路\n",
    "\"\"\"\n",
    "def build_mlp(input_shape, output_units=10, num_neurons=[512, 256, 128]):\n",
    "    input_layer = keras.layers.Input(input_shape)\n",
    "    \n",
    "    for i, n_units in enumerate(num_neurons):\n",
    "        if i == 0:\n",
    "            x = keras.layers.Dense(units=n_units, activation=\"relu\", name=\"hidden_layer\"+str(i+1))(input_layer)\n",
    "        else:\n",
    "            x = keras.layers.Dense(units=n_units, activation=\"relu\", name=\"hidden_layer\"+str(i+1))(x)\n",
    "    \n",
    "    out = keras.layers.Dense(units=output_units, activation=\"softmax\", name=\"output\")(x)\n",
    "    \n",
    "    model = keras.models.Model(inputs=[input_layer], outputs=[out])\n",
    "    return model"
   ]
  },
  {
   "cell_type": "code",
   "execution_count": 7,
   "metadata": {},
   "outputs": [
    {
     "name": "stderr",
     "output_type": "stream",
     "text": [
      "WARNING: Logging before flag parsing goes to stderr.\n",
      "W0726 23:13:54.173244 30668 deprecation_wrapper.py:119] From D:\\python\\lib\\site-packages\\keras\\backend\\tensorflow_backend.py:74: The name tf.get_default_graph is deprecated. Please use tf.compat.v1.get_default_graph instead.\n",
      "\n",
      "W0726 23:13:55.302632 30668 deprecation_wrapper.py:119] From D:\\python\\lib\\site-packages\\keras\\backend\\tensorflow_backend.py:517: The name tf.placeholder is deprecated. Please use tf.compat.v1.placeholder instead.\n",
      "\n",
      "W0726 23:13:55.552722 30668 deprecation_wrapper.py:119] From D:\\python\\lib\\site-packages\\keras\\backend\\tensorflow_backend.py:4138: The name tf.random_uniform is deprecated. Please use tf.random.uniform instead.\n",
      "\n"
     ]
    },
    {
     "name": "stdout",
     "output_type": "stream",
     "text": [
      "_________________________________________________________________\n",
      "Layer (type)                 Output Shape              Param #   \n",
      "=================================================================\n",
      "input_1 (InputLayer)         (None, 3072)              0         \n",
      "_________________________________________________________________\n",
      "hidden_layer1 (Dense)        (None, 512)               1573376   \n",
      "_________________________________________________________________\n",
      "hidden_layer2 (Dense)        (None, 256)               131328    \n",
      "_________________________________________________________________\n",
      "hidden_layer3 (Dense)        (None, 128)               32896     \n",
      "_________________________________________________________________\n",
      "output (Dense)               (None, 10)                1290      \n",
      "=================================================================\n",
      "Total params: 1,738,890\n",
      "Trainable params: 1,738,890\n",
      "Non-trainable params: 0\n",
      "_________________________________________________________________\n"
     ]
    }
   ],
   "source": [
    "model = build_mlp(input_shape=x_train.shape[1:])\n",
    "model.summary()"
   ]
  },
  {
   "cell_type": "code",
   "execution_count": 8,
   "metadata": {},
   "outputs": [],
   "source": [
    "## 超參數設定\n",
    "LEARNING_RATE = 0.001\n",
    "EPOCHS = 100\n",
    "BATCH_SIZE = 256"
   ]
  },
  {
   "cell_type": "code",
   "execution_count": 9,
   "metadata": {},
   "outputs": [
    {
     "name": "stderr",
     "output_type": "stream",
     "text": [
      "W0726 23:14:23.019089 30668 deprecation_wrapper.py:119] From D:\\python\\lib\\site-packages\\keras\\optimizers.py:790: The name tf.train.Optimizer is deprecated. Please use tf.compat.v1.train.Optimizer instead.\n",
      "\n",
      "W0726 23:14:23.069994 30668 deprecation_wrapper.py:119] From D:\\python\\lib\\site-packages\\keras\\backend\\tensorflow_backend.py:3295: The name tf.log is deprecated. Please use tf.math.log instead.\n",
      "\n"
     ]
    }
   ],
   "source": [
    "optimizer = keras.optimizers.Adam(lr=LEARNING_RATE)\n",
    "model.compile(loss=\"categorical_crossentropy\", metrics=[\"accuracy\"], optimizer=optimizer)"
   ]
  },
  {
   "cell_type": "code",
   "execution_count": 10,
   "metadata": {},
   "outputs": [
    {
     "name": "stderr",
     "output_type": "stream",
     "text": [
      "W0726 23:14:41.622942 30668 deprecation.py:323] From D:\\python\\lib\\site-packages\\tensorflow\\python\\ops\\math_grad.py:1250: add_dispatch_support.<locals>.wrapper (from tensorflow.python.ops.array_ops) is deprecated and will be removed in a future version.\n",
      "Instructions for updating:\n",
      "Use tf.where in 2.0, which has the same broadcast rule as np.where\n",
      "W0726 23:14:41.741720 30668 deprecation_wrapper.py:119] From D:\\python\\lib\\site-packages\\keras\\backend\\tensorflow_backend.py:986: The name tf.assign_add is deprecated. Please use tf.compat.v1.assign_add instead.\n",
      "\n"
     ]
    },
    {
     "name": "stdout",
     "output_type": "stream",
     "text": [
      "Train on 50000 samples, validate on 10000 samples\n",
      "Epoch 1/100\n",
      "50000/50000 [==============================] - 22s 444us/step - loss: 1.6767 - acc: 0.4095 - val_loss: 1.5533 - val_acc: 0.4562\n",
      "Epoch 2/100\n",
      "50000/50000 [==============================] - 6s 125us/step - loss: 1.4475 - acc: 0.4918 - val_loss: 1.4407 - val_acc: 0.4934\n",
      "Epoch 3/100\n",
      "50000/50000 [==============================] - 7s 131us/step - loss: 1.3201 - acc: 0.5332 - val_loss: 1.4153 - val_acc: 0.5042\n",
      "Epoch 4/100\n",
      "50000/50000 [==============================] - 7s 134us/step - loss: 1.2292 - acc: 0.5688 - val_loss: 1.4174 - val_acc: 0.5099\n",
      "Epoch 5/100\n",
      "50000/50000 [==============================] - 6s 126us/step - loss: 1.1466 - acc: 0.5981 - val_loss: 1.3829 - val_acc: 0.5202\n",
      "Epoch 6/100\n",
      "50000/50000 [==============================] - 6s 130us/step - loss: 1.0642 - acc: 0.6244 - val_loss: 1.3755 - val_acc: 0.5234\n",
      "Epoch 7/100\n",
      "50000/50000 [==============================] - 6s 125us/step - loss: 0.9788 - acc: 0.6554 - val_loss: 1.4195 - val_acc: 0.5263\n",
      "Epoch 8/100\n",
      "50000/50000 [==============================] - 6s 128us/step - loss: 0.9039 - acc: 0.6805 - val_loss: 1.4379 - val_acc: 0.5260\n",
      "Epoch 9/100\n",
      "50000/50000 [==============================] - 6s 127us/step - loss: 0.8218 - acc: 0.7102 - val_loss: 1.4646 - val_acc: 0.5366\n",
      "Epoch 10/100\n",
      "50000/50000 [==============================] - 6s 128us/step - loss: 0.7524 - acc: 0.7339 - val_loss: 1.5069 - val_acc: 0.5342\n",
      "Epoch 11/100\n",
      "50000/50000 [==============================] - 7s 146us/step - loss: 0.6852 - acc: 0.7588 - val_loss: 1.5800 - val_acc: 0.5291\n",
      "Epoch 12/100\n",
      "50000/50000 [==============================] - 7s 138us/step - loss: 0.6136 - acc: 0.7848 - val_loss: 1.6609 - val_acc: 0.5313\n",
      "Epoch 13/100\n",
      "50000/50000 [==============================] - 8s 160us/step - loss: 0.5599 - acc: 0.8012 - val_loss: 1.7766 - val_acc: 0.5282\n",
      "Epoch 14/100\n",
      "50000/50000 [==============================] - 7s 138us/step - loss: 0.4993 - acc: 0.8229 - val_loss: 1.8618 - val_acc: 0.5301\n",
      "Epoch 15/100\n",
      "50000/50000 [==============================] - 7s 142us/step - loss: 0.4501 - acc: 0.8405 - val_loss: 1.9341 - val_acc: 0.5276\n",
      "Epoch 16/100\n",
      "50000/50000 [==============================] - 7s 137us/step - loss: 0.3949 - acc: 0.8622 - val_loss: 2.0695 - val_acc: 0.5313\n",
      "Epoch 17/100\n",
      "50000/50000 [==============================] - 7s 138us/step - loss: 0.3587 - acc: 0.8737 - val_loss: 2.1625 - val_acc: 0.5256\n",
      "Epoch 18/100\n",
      "50000/50000 [==============================] - 7s 141us/step - loss: 0.3268 - acc: 0.8861 - val_loss: 2.2560 - val_acc: 0.5288\n",
      "Epoch 19/100\n",
      "50000/50000 [==============================] - 7s 140us/step - loss: 0.3129 - acc: 0.8900 - val_loss: 2.3454 - val_acc: 0.5148\n",
      "Epoch 20/100\n",
      "50000/50000 [==============================] - 7s 143us/step - loss: 0.2874 - acc: 0.8988 - val_loss: 2.4017 - val_acc: 0.5290\n",
      "Epoch 21/100\n",
      "50000/50000 [==============================] - 7s 137us/step - loss: 0.2582 - acc: 0.9087 - val_loss: 2.4865 - val_acc: 0.5259\n",
      "Epoch 22/100\n",
      "50000/50000 [==============================] - 7s 142us/step - loss: 0.2502 - acc: 0.9128 - val_loss: 2.5860 - val_acc: 0.5252\n",
      "Epoch 23/100\n",
      "50000/50000 [==============================] - 6s 125us/step - loss: 0.2205 - acc: 0.9235 - val_loss: 2.6938 - val_acc: 0.5326\n",
      "Epoch 24/100\n",
      "50000/50000 [==============================] - 6s 123us/step - loss: 0.2160 - acc: 0.9255 - val_loss: 2.7202 - val_acc: 0.5283\n",
      "Epoch 25/100\n",
      "50000/50000 [==============================] - 6s 128us/step - loss: 0.2198 - acc: 0.9246 - val_loss: 2.7206 - val_acc: 0.5289\n",
      "Epoch 26/100\n",
      "50000/50000 [==============================] - 6s 126us/step - loss: 0.1880 - acc: 0.9352 - val_loss: 2.8782 - val_acc: 0.5251\n",
      "Epoch 27/100\n",
      "50000/50000 [==============================] - 6s 129us/step - loss: 0.1684 - acc: 0.9414 - val_loss: 2.9704 - val_acc: 0.5323\n",
      "Epoch 28/100\n",
      "50000/50000 [==============================] - 6s 127us/step - loss: 0.1682 - acc: 0.9410 - val_loss: 3.0429 - val_acc: 0.5171\n",
      "Epoch 29/100\n",
      "50000/50000 [==============================] - 6s 123us/step - loss: 0.1910 - acc: 0.9336 - val_loss: 3.0951 - val_acc: 0.5215\n",
      "Epoch 30/100\n",
      "50000/50000 [==============================] - 6s 129us/step - loss: 0.1641 - acc: 0.9433 - val_loss: 3.1680 - val_acc: 0.5236\n",
      "Epoch 31/100\n",
      "50000/50000 [==============================] - 6s 123us/step - loss: 0.1654 - acc: 0.9428 - val_loss: 3.1153 - val_acc: 0.5309\n",
      "Epoch 32/100\n",
      "50000/50000 [==============================] - 6s 129us/step - loss: 0.1510 - acc: 0.9489 - val_loss: 3.2148 - val_acc: 0.5234\n",
      "Epoch 33/100\n",
      "50000/50000 [==============================] - 6s 123us/step - loss: 0.1603 - acc: 0.9444 - val_loss: 3.2149 - val_acc: 0.5243\n",
      "Epoch 34/100\n",
      "50000/50000 [==============================] - 6s 125us/step - loss: 0.1467 - acc: 0.9485 - val_loss: 3.3720 - val_acc: 0.5207\n",
      "Epoch 35/100\n",
      "50000/50000 [==============================] - 7s 130us/step - loss: 0.1377 - acc: 0.9531 - val_loss: 3.4329 - val_acc: 0.5309\n",
      "Epoch 36/100\n",
      "50000/50000 [==============================] - 6s 123us/step - loss: 0.1419 - acc: 0.9519 - val_loss: 3.4505 - val_acc: 0.5184\n",
      "Epoch 37/100\n",
      "50000/50000 [==============================] - 7s 134us/step - loss: 0.1449 - acc: 0.9509 - val_loss: 3.4315 - val_acc: 0.5306\n",
      "Epoch 38/100\n",
      "50000/50000 [==============================] - 7s 141us/step - loss: 0.1444 - acc: 0.9503 - val_loss: 3.5007 - val_acc: 0.5262\n",
      "Epoch 39/100\n",
      "50000/50000 [==============================] - 7s 140us/step - loss: 0.1301 - acc: 0.9549 - val_loss: 3.5671 - val_acc: 0.5225\n",
      "Epoch 40/100\n",
      "50000/50000 [==============================] - 8s 158us/step - loss: 0.1469 - acc: 0.9503 - val_loss: 3.5287 - val_acc: 0.5267\n",
      "Epoch 41/100\n",
      "50000/50000 [==============================] - 7s 145us/step - loss: 0.1446 - acc: 0.9513 - val_loss: 3.4091 - val_acc: 0.5205\n",
      "Epoch 42/100\n",
      "50000/50000 [==============================] - 8s 158us/step - loss: 0.1189 - acc: 0.9598 - val_loss: 3.5467 - val_acc: 0.5202\n",
      "Epoch 43/100\n",
      "50000/50000 [==============================] - 8s 164us/step - loss: 0.0967 - acc: 0.9676 - val_loss: 3.6685 - val_acc: 0.5284\n",
      "Epoch 44/100\n",
      "50000/50000 [==============================] - 8s 156us/step - loss: 0.0946 - acc: 0.9680 - val_loss: 3.7527 - val_acc: 0.5225\n",
      "Epoch 45/100\n",
      "50000/50000 [==============================] - 8s 157us/step - loss: 0.1141 - acc: 0.9624 - val_loss: 3.7471 - val_acc: 0.5219\n",
      "Epoch 46/100\n",
      "50000/50000 [==============================] - 8s 156us/step - loss: 0.1295 - acc: 0.9583 - val_loss: 3.7296 - val_acc: 0.5177\n",
      "Epoch 47/100\n",
      "50000/50000 [==============================] - 7s 144us/step - loss: 0.1198 - acc: 0.9603 - val_loss: 3.9250 - val_acc: 0.5266\n",
      "Epoch 48/100\n",
      "50000/50000 [==============================] - 8s 157us/step - loss: 0.1206 - acc: 0.9598 - val_loss: 3.7961 - val_acc: 0.5264\n",
      "Epoch 49/100\n",
      "50000/50000 [==============================] - 7s 146us/step - loss: 0.1235 - acc: 0.9600 - val_loss: 3.8335 - val_acc: 0.5222\n",
      "Epoch 50/100\n",
      "50000/50000 [==============================] - 7s 140us/step - loss: 0.1156 - acc: 0.9615 - val_loss: 3.7664 - val_acc: 0.5307\n",
      "Epoch 51/100\n",
      "50000/50000 [==============================] - 7s 138us/step - loss: 0.0851 - acc: 0.9722 - val_loss: 4.0032 - val_acc: 0.5206\n",
      "Epoch 52/100\n",
      "50000/50000 [==============================] - 7s 137us/step - loss: 0.0981 - acc: 0.9665 - val_loss: 3.9316 - val_acc: 0.5204\n",
      "Epoch 53/100\n",
      "50000/50000 [==============================] - 7s 138us/step - loss: 0.1006 - acc: 0.9674 - val_loss: 3.8720 - val_acc: 0.5251\n",
      "Epoch 54/100\n",
      "50000/50000 [==============================] - 7s 138us/step - loss: 0.1221 - acc: 0.9594 - val_loss: 3.8871 - val_acc: 0.5210\n",
      "Epoch 55/100\n",
      "50000/50000 [==============================] - 7s 141us/step - loss: 0.1029 - acc: 0.9659 - val_loss: 3.9321 - val_acc: 0.5191\n",
      "Epoch 56/100\n",
      "50000/50000 [==============================] - 7s 143us/step - loss: 0.0955 - acc: 0.9690 - val_loss: 3.9372 - val_acc: 0.5256\n",
      "Epoch 57/100\n",
      "50000/50000 [==============================] - 7s 148us/step - loss: 0.0829 - acc: 0.9732 - val_loss: 4.0410 - val_acc: 0.5223\n",
      "Epoch 58/100\n",
      "50000/50000 [==============================] - 8s 154us/step - loss: 0.0928 - acc: 0.9698 - val_loss: 4.0811 - val_acc: 0.5214\n",
      "Epoch 59/100\n"
     ]
    },
    {
     "name": "stdout",
     "output_type": "stream",
     "text": [
      "50000/50000 [==============================] - 8s 163us/step - loss: 0.1178 - acc: 0.9617 - val_loss: 4.0040 - val_acc: 0.5291\n",
      "Epoch 60/100\n",
      "50000/50000 [==============================] - 7s 143us/step - loss: 0.0884 - acc: 0.9706 - val_loss: 4.0249 - val_acc: 0.5203\n",
      "Epoch 61/100\n",
      "50000/50000 [==============================] - 7s 145us/step - loss: 0.0701 - acc: 0.9773 - val_loss: 4.1420 - val_acc: 0.5224\n",
      "Epoch 62/100\n",
      "50000/50000 [==============================] - 8s 154us/step - loss: 0.1003 - acc: 0.9674 - val_loss: 4.0499 - val_acc: 0.5214\n",
      "Epoch 63/100\n",
      "50000/50000 [==============================] - 7s 143us/step - loss: 0.0847 - acc: 0.9722 - val_loss: 4.1123 - val_acc: 0.5237\n",
      "Epoch 64/100\n",
      "50000/50000 [==============================] - 7s 141us/step - loss: 0.1088 - acc: 0.9657 - val_loss: 4.0768 - val_acc: 0.5215\n",
      "Epoch 65/100\n",
      "50000/50000 [==============================] - 7s 143us/step - loss: 0.1217 - acc: 0.9618 - val_loss: 4.0194 - val_acc: 0.5256\n",
      "Epoch 66/100\n",
      "50000/50000 [==============================] - 7s 144us/step - loss: 0.0883 - acc: 0.9712 - val_loss: 4.1897 - val_acc: 0.5229\n",
      "Epoch 67/100\n",
      "50000/50000 [==============================] - 7s 139us/step - loss: 0.0865 - acc: 0.9724 - val_loss: 4.0938 - val_acc: 0.5205\n",
      "Epoch 68/100\n",
      "50000/50000 [==============================] - 7s 146us/step - loss: 0.0670 - acc: 0.9780 - val_loss: 4.2257 - val_acc: 0.5201\n",
      "Epoch 69/100\n",
      "50000/50000 [==============================] - 7s 144us/step - loss: 0.0670 - acc: 0.9782 - val_loss: 4.1445 - val_acc: 0.5270\n",
      "Epoch 70/100\n",
      "50000/50000 [==============================] - 8s 160us/step - loss: 0.1004 - acc: 0.9687 - val_loss: 4.1418 - val_acc: 0.5254\n",
      "Epoch 71/100\n",
      "50000/50000 [==============================] - 7s 145us/step - loss: 0.0997 - acc: 0.9687 - val_loss: 4.1174 - val_acc: 0.5308\n",
      "Epoch 72/100\n",
      "50000/50000 [==============================] - 7s 140us/step - loss: 0.1093 - acc: 0.9654 - val_loss: 4.1844 - val_acc: 0.5157\n",
      "Epoch 73/100\n",
      "50000/50000 [==============================] - 7s 131us/step - loss: 0.0847 - acc: 0.9728 - val_loss: 4.1798 - val_acc: 0.5284\n",
      "Epoch 74/100\n",
      "50000/50000 [==============================] - 6s 120us/step - loss: 0.0663 - acc: 0.9785 - val_loss: 4.2162 - val_acc: 0.5242\n",
      "Epoch 75/100\n",
      "50000/50000 [==============================] - 6s 123us/step - loss: 0.0728 - acc: 0.9764 - val_loss: 4.2816 - val_acc: 0.5208\n",
      "Epoch 76/100\n",
      "50000/50000 [==============================] - 6s 119us/step - loss: 0.0753 - acc: 0.9756 - val_loss: 4.2521 - val_acc: 0.5220\n",
      "Epoch 77/100\n",
      "50000/50000 [==============================] - 6s 126us/step - loss: 0.0821 - acc: 0.9731 - val_loss: 4.3949 - val_acc: 0.5170\n",
      "Epoch 78/100\n",
      "50000/50000 [==============================] - 6s 122us/step - loss: 0.1050 - acc: 0.9667 - val_loss: 4.2423 - val_acc: 0.5234\n",
      "Epoch 79/100\n",
      "50000/50000 [==============================] - 6s 123us/step - loss: 0.0819 - acc: 0.9745 - val_loss: 4.3044 - val_acc: 0.5222\n",
      "Epoch 80/100\n",
      "50000/50000 [==============================] - 6s 123us/step - loss: 0.0798 - acc: 0.9751 - val_loss: 4.2946 - val_acc: 0.5222\n",
      "Epoch 81/100\n",
      "50000/50000 [==============================] - 6s 123us/step - loss: 0.0655 - acc: 0.9786 - val_loss: 4.3328 - val_acc: 0.5202\n",
      "Epoch 82/100\n",
      "50000/50000 [==============================] - 6s 127us/step - loss: 0.0701 - acc: 0.9779 - val_loss: 4.3641 - val_acc: 0.5202\n",
      "Epoch 83/100\n",
      "50000/50000 [==============================] - 6s 120us/step - loss: 0.0848 - acc: 0.9734 - val_loss: 4.3068 - val_acc: 0.5270\n",
      "Epoch 84/100\n",
      "50000/50000 [==============================] - 6s 118us/step - loss: 0.0745 - acc: 0.9760 - val_loss: 4.4036 - val_acc: 0.5174\n",
      "Epoch 85/100\n",
      "50000/50000 [==============================] - 6s 128us/step - loss: 0.0784 - acc: 0.9761 - val_loss: 4.2983 - val_acc: 0.5171\n",
      "Epoch 86/100\n",
      "50000/50000 [==============================] - 7s 139us/step - loss: 0.0713 - acc: 0.9776 - val_loss: 4.3981 - val_acc: 0.5185\n",
      "Epoch 87/100\n",
      "50000/50000 [==============================] - 7s 135us/step - loss: 0.0620 - acc: 0.9804 - val_loss: 4.4920 - val_acc: 0.5239\n",
      "Epoch 88/100\n",
      "50000/50000 [==============================] - 7s 136us/step - loss: 0.0818 - acc: 0.9744 - val_loss: 4.4755 - val_acc: 0.5269\n",
      "Epoch 89/100\n",
      "50000/50000 [==============================] - 7s 145us/step - loss: 0.0967 - acc: 0.9706 - val_loss: 4.3835 - val_acc: 0.5277\n",
      "Epoch 90/100\n",
      "50000/50000 [==============================] - 8s 153us/step - loss: 0.0695 - acc: 0.9781 - val_loss: 4.4108 - val_acc: 0.5283\n",
      "Epoch 91/100\n",
      "50000/50000 [==============================] - 7s 144us/step - loss: 0.0786 - acc: 0.9753 - val_loss: 4.4631 - val_acc: 0.5201\n",
      "Epoch 92/100\n",
      "50000/50000 [==============================] - 8s 153us/step - loss: 0.0647 - acc: 0.9796 - val_loss: 4.4074 - val_acc: 0.5323\n",
      "Epoch 93/100\n",
      "50000/50000 [==============================] - 7s 143us/step - loss: 0.0676 - acc: 0.9787 - val_loss: 4.4716 - val_acc: 0.5265\n",
      "Epoch 94/100\n",
      "50000/50000 [==============================] - 8s 153us/step - loss: 0.0703 - acc: 0.9781 - val_loss: 4.4934 - val_acc: 0.5265\n",
      "Epoch 95/100\n",
      "50000/50000 [==============================] - 7s 147us/step - loss: 0.0726 - acc: 0.9774 - val_loss: 4.4864 - val_acc: 0.5318\n",
      "Epoch 96/100\n",
      "50000/50000 [==============================] - 8s 152us/step - loss: 0.0713 - acc: 0.9780 - val_loss: 4.4491 - val_acc: 0.5307\n",
      "Epoch 97/100\n",
      "50000/50000 [==============================] - 7s 146us/step - loss: 0.0621 - acc: 0.9803 - val_loss: 4.4507 - val_acc: 0.5311\n",
      "Epoch 98/100\n",
      "50000/50000 [==============================] - 8s 152us/step - loss: 0.0622 - acc: 0.9807 - val_loss: 4.4851 - val_acc: 0.5282\n",
      "Epoch 99/100\n",
      "50000/50000 [==============================] - 7s 146us/step - loss: 0.0848 - acc: 0.9739 - val_loss: 4.4516 - val_acc: 0.5262\n",
      "Epoch 100/100\n",
      "50000/50000 [==============================] - 8s 151us/step - loss: 0.0680 - acc: 0.9790 - val_loss: 4.4929 - val_acc: 0.5256\n"
     ]
    },
    {
     "data": {
      "text/plain": [
       "<keras.callbacks.History at 0x2f89651cf98>"
      ]
     },
     "execution_count": 10,
     "metadata": {},
     "output_type": "execute_result"
    }
   ],
   "source": [
    "model.fit(x_train, y_train, \n",
    "          epochs=EPOCHS, \n",
    "          batch_size=BATCH_SIZE, \n",
    "          validation_data=(x_test, y_test), \n",
    "          shuffle=True)"
   ]
  },
  {
   "cell_type": "code",
   "execution_count": 12,
   "metadata": {},
   "outputs": [
    {
     "data": {
      "image/png": "[encoded data removed]",
      "text/plain": [
       "<Figure size 432x288 with 1 Axes>"
      ]
     },
     "metadata": {
      "needs_background": "light"
     },
     "output_type": "display_data"
    },
    {
     "data": {
      "image/png": "[encoded data removed]",
      "text/plain": [
       "<Figure size 432x288 with 1 Axes>"
      ]
     },
     "metadata": {
      "needs_background": "light"
     },
     "output_type": "display_data"
    }
   ],
   "source": [
    "import matplotlib.pyplot as plt\n",
    "\n",
    "\n",
    "train_loss = model.history.history[\"loss\"]\n",
    "valid_loss = model.history.history[\"val_loss\"]\n",
    "\n",
    "train_acc = model.history.history[\"acc\"]\n",
    "valid_acc = model.history.history[\"val_acc\"]\n",
    "\n",
    "plt.plot(range(len(train_loss)), train_loss, label=\"train loss\")\n",
    "plt.plot(range(len(valid_loss)), valid_loss, label=\"valid loss\")\n",
    "plt.legend()\n",
    "plt.title(\"Loss\")\n",
    "plt.show()\n",
    "\n",
    "plt.plot(range(len(train_acc)), train_acc, label=\"train accuracy\")\n",
    "plt.plot(range(len(valid_acc)), valid_acc, label=\"valid accuracy\")\n",
    "plt.legend()\n",
    "plt.title(\"Accuracy\")\n",
    "plt.show()"
   ]
  },
  {
   "cell_type": "code",
   "execution_count": null,
   "metadata": {},
   "outputs": [],
   "source": []
  }
 ],
 "metadata": {
  "kernelspec": {
   "display_name": "Python 3",
   "language": "python",
   "name": "python3"
  },
  "language_info": {
   "codemirror_mode": {
    "name": "ipython",
    "version": 3
   },
   "file_extension": ".py",
   "mimetype": "text/x-python",
   "name": "python",
   "nbconvert_exporter": "python",
   "pygments_lexer": "ipython3",
   "version": "3.7.3"
  }
 },
 "nbformat": 4,
 "nbformat_minor": 2
}
